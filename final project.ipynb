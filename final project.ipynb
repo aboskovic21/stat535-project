{
 "cells": [
  {
   "cell_type": "code",
   "execution_count": 207,
   "id": "770718ed",
   "metadata": {},
   "outputs": [],
   "source": [
    "import pandas as pd\n",
    "import numpy as np\n",
    "import matplotlib.pyplot as plt\n",
    "import pickle\n",
    "\n",
    "import sklearn\n",
    "from sklearn.neighbors import KNeighborsRegressor\n",
    "from sklearn.feature_selection import SequentialFeatureSelector as sfs\n",
    "from sklearn import preprocessing\n",
    "from sklearn.preprocessing import StandardScaler\n",
    "from sklearn.model_selection import KFold\n",
    "from sklearn.model_selection import GridSearchCV\n",
    "from sklearn.metrics import mean_squared_error, make_scorer\n",
    "\n",
    "import warnings\n",
    "warnings.filterwarnings('ignore')"
   ]
  },
  {
   "cell_type": "markdown",
   "id": "a82b11cb",
   "metadata": {},
   "source": [
    "# EDA"
   ]
  },
  {
   "cell_type": "markdown",
   "id": "36be79e8",
   "metadata": {},
   "source": [
    "I got some information about the features here: https://eerscmap.usgs.gov/uswtdb/api-doc/. Here is a summary:\n",
    "\n",
    "- `t_state` [string]: State where turbine is located\n",
    "- `t_county` [string]: County where turbine is located\n",
    "- `p_year` [int]: Year that the turbine became operational and began providing power. Note this may differ from the year that construction began\n",
    "- `retrofit` [int]: Indicator of whether the turbine has been partially retrofit after initial construction (e.g., rotor and/or nacelle replacement). 0 indicates no known retrofit. 1 indicates yes known retrofit.\n",
    "- `retrofit_year` [int]: Year in which the turbine was partially retrofit.\n",
    "- `t_hh` [float]: Turbine hub height in meters (m)\n",
    "- `t_rd` [float]: Turbine rotor diameter in meters (m).\n",
    "- `t_rsa` [float]: Turbine rotor swept area in square meters (m2)\n",
    "- `t_ttlh` [float]: Turbine total height from ground to tip of a blade at its apex in meters (m)\n",
    "- `xlong` [float]: Longitude of the turbine point, in decimal degrees\n",
    "- `ylat` [float]: Latitude of the turbine point, in decimal degrees"
   ]
  },
  {
   "cell_type": "markdown",
   "id": "77c08080",
   "metadata": {},
   "source": [
    "### Load the dataset"
   ]
  },
  {
   "cell_type": "code",
   "execution_count": 134,
   "id": "a6626101",
   "metadata": {},
   "outputs": [],
   "source": [
    "X_train = pd.read_pickle(r'X_train.pkl')\n",
    "y_train = pd.read_pickle(r'y_train.pkl')"
   ]
  },
  {
   "cell_type": "code",
   "execution_count": 135,
   "id": "18cfbfa3",
   "metadata": {},
   "outputs": [
    {
     "data": {
      "text/html": [
       "<div>\n",
       "<style scoped>\n",
       "    .dataframe tbody tr th:only-of-type {\n",
       "        vertical-align: middle;\n",
       "    }\n",
       "\n",
       "    .dataframe tbody tr th {\n",
       "        vertical-align: top;\n",
       "    }\n",
       "\n",
       "    .dataframe thead th {\n",
       "        text-align: right;\n",
       "    }\n",
       "</style>\n",
       "<table border=\"1\" class=\"dataframe\">\n",
       "  <thead>\n",
       "    <tr style=\"text-align: right;\">\n",
       "      <th></th>\n",
       "      <th>t_state</th>\n",
       "      <th>t_county</th>\n",
       "      <th>p_year</th>\n",
       "      <th>retrofit</th>\n",
       "      <th>retrofit_year</th>\n",
       "      <th>t_hh</th>\n",
       "      <th>t_rd</th>\n",
       "      <th>t_rsa</th>\n",
       "      <th>t_ttlh</th>\n",
       "      <th>xlong</th>\n",
       "      <th>ylat</th>\n",
       "    </tr>\n",
       "  </thead>\n",
       "  <tbody>\n",
       "    <tr>\n",
       "      <th>46171</th>\n",
       "      <td>KS</td>\n",
       "      <td>Lincoln County</td>\n",
       "      <td>2011</td>\n",
       "      <td>0</td>\n",
       "      <td>NaN</td>\n",
       "      <td>80.0</td>\n",
       "      <td>82.5</td>\n",
       "      <td>5345.62</td>\n",
       "      <td>121.3</td>\n",
       "      <td>-98.325649</td>\n",
       "      <td>38.899765</td>\n",
       "    </tr>\n",
       "    <tr>\n",
       "      <th>29102</th>\n",
       "      <td>TX</td>\n",
       "      <td>Upton County</td>\n",
       "      <td>2001</td>\n",
       "      <td>1</td>\n",
       "      <td>2018.0</td>\n",
       "      <td>60.0</td>\n",
       "      <td>65.0</td>\n",
       "      <td>3318.31</td>\n",
       "      <td>92.4</td>\n",
       "      <td>-102.253399</td>\n",
       "      <td>31.238765</td>\n",
       "    </tr>\n",
       "    <tr>\n",
       "      <th>3757</th>\n",
       "      <td>WA</td>\n",
       "      <td>Klickitat County</td>\n",
       "      <td>2007</td>\n",
       "      <td>0</td>\n",
       "      <td>NaN</td>\n",
       "      <td>80.0</td>\n",
       "      <td>77.0</td>\n",
       "      <td>4656.63</td>\n",
       "      <td>118.6</td>\n",
       "      <td>-120.313433</td>\n",
       "      <td>45.845891</td>\n",
       "    </tr>\n",
       "    <tr>\n",
       "      <th>43987</th>\n",
       "      <td>CO</td>\n",
       "      <td>Logan County</td>\n",
       "      <td>2007</td>\n",
       "      <td>0</td>\n",
       "      <td>NaN</td>\n",
       "      <td>80.0</td>\n",
       "      <td>77.0</td>\n",
       "      <td>4656.63</td>\n",
       "      <td>118.6</td>\n",
       "      <td>-103.267392</td>\n",
       "      <td>40.907088</td>\n",
       "    </tr>\n",
       "    <tr>\n",
       "      <th>39073</th>\n",
       "      <td>NM</td>\n",
       "      <td>Quay County</td>\n",
       "      <td>2002</td>\n",
       "      <td>1</td>\n",
       "      <td>2018.0</td>\n",
       "      <td>80.0</td>\n",
       "      <td>87.0</td>\n",
       "      <td>5944.68</td>\n",
       "      <td>123.4</td>\n",
       "      <td>-104.087774</td>\n",
       "      <td>34.730923</td>\n",
       "    </tr>\n",
       "    <tr>\n",
       "      <th>...</th>\n",
       "      <td>...</td>\n",
       "      <td>...</td>\n",
       "      <td>...</td>\n",
       "      <td>...</td>\n",
       "      <td>...</td>\n",
       "      <td>...</td>\n",
       "      <td>...</td>\n",
       "      <td>...</td>\n",
       "      <td>...</td>\n",
       "      <td>...</td>\n",
       "      <td>...</td>\n",
       "    </tr>\n",
       "    <tr>\n",
       "      <th>62570</th>\n",
       "      <td>AZ</td>\n",
       "      <td>Mohave County</td>\n",
       "      <td>2021</td>\n",
       "      <td>0</td>\n",
       "      <td>NaN</td>\n",
       "      <td>89.0</td>\n",
       "      <td>127.0</td>\n",
       "      <td>12667.69</td>\n",
       "      <td>152.4</td>\n",
       "      <td>-114.437594</td>\n",
       "      <td>35.775505</td>\n",
       "    </tr>\n",
       "    <tr>\n",
       "      <th>38158</th>\n",
       "      <td>CO</td>\n",
       "      <td>Weld County</td>\n",
       "      <td>2021</td>\n",
       "      <td>0</td>\n",
       "      <td>NaN</td>\n",
       "      <td>89.0</td>\n",
       "      <td>127.0</td>\n",
       "      <td>12667.69</td>\n",
       "      <td>152.4</td>\n",
       "      <td>-104.033837</td>\n",
       "      <td>41.004457</td>\n",
       "    </tr>\n",
       "    <tr>\n",
       "      <th>860</th>\n",
       "      <td>CA</td>\n",
       "      <td>Kern County</td>\n",
       "      <td>2012</td>\n",
       "      <td>0</td>\n",
       "      <td>NaN</td>\n",
       "      <td>85.0</td>\n",
       "      <td>103.0</td>\n",
       "      <td>8332.29</td>\n",
       "      <td>136.6</td>\n",
       "      <td>-118.241090</td>\n",
       "      <td>35.095572</td>\n",
       "    </tr>\n",
       "    <tr>\n",
       "      <th>15795</th>\n",
       "      <td>OK</td>\n",
       "      <td>Pontotoc County</td>\n",
       "      <td>2020</td>\n",
       "      <td>0</td>\n",
       "      <td>NaN</td>\n",
       "      <td>89.0</td>\n",
       "      <td>127.0</td>\n",
       "      <td>12667.69</td>\n",
       "      <td>152.4</td>\n",
       "      <td>-96.800879</td>\n",
       "      <td>34.517420</td>\n",
       "    </tr>\n",
       "    <tr>\n",
       "      <th>56422</th>\n",
       "      <td>TX</td>\n",
       "      <td>Borden County</td>\n",
       "      <td>2014</td>\n",
       "      <td>0</td>\n",
       "      <td>NaN</td>\n",
       "      <td>80.0</td>\n",
       "      <td>100.0</td>\n",
       "      <td>7853.98</td>\n",
       "      <td>130.1</td>\n",
       "      <td>-101.613419</td>\n",
       "      <td>32.852629</td>\n",
       "    </tr>\n",
       "  </tbody>\n",
       "</table>\n",
       "<p>50000 rows × 11 columns</p>\n",
       "</div>"
      ],
      "text/plain": [
       "      t_state          t_county  p_year  retrofit  retrofit_year  t_hh   t_rd  \\\n",
       "46171      KS    Lincoln County    2011         0            NaN  80.0   82.5   \n",
       "29102      TX      Upton County    2001         1         2018.0  60.0   65.0   \n",
       "3757       WA  Klickitat County    2007         0            NaN  80.0   77.0   \n",
       "43987      CO      Logan County    2007         0            NaN  80.0   77.0   \n",
       "39073      NM       Quay County    2002         1         2018.0  80.0   87.0   \n",
       "...       ...               ...     ...       ...            ...   ...    ...   \n",
       "62570      AZ     Mohave County    2021         0            NaN  89.0  127.0   \n",
       "38158      CO       Weld County    2021         0            NaN  89.0  127.0   \n",
       "860        CA       Kern County    2012         0            NaN  85.0  103.0   \n",
       "15795      OK   Pontotoc County    2020         0            NaN  89.0  127.0   \n",
       "56422      TX     Borden County    2014         0            NaN  80.0  100.0   \n",
       "\n",
       "          t_rsa  t_ttlh       xlong       ylat  \n",
       "46171   5345.62   121.3  -98.325649  38.899765  \n",
       "29102   3318.31    92.4 -102.253399  31.238765  \n",
       "3757    4656.63   118.6 -120.313433  45.845891  \n",
       "43987   4656.63   118.6 -103.267392  40.907088  \n",
       "39073   5944.68   123.4 -104.087774  34.730923  \n",
       "...         ...     ...         ...        ...  \n",
       "62570  12667.69   152.4 -114.437594  35.775505  \n",
       "38158  12667.69   152.4 -104.033837  41.004457  \n",
       "860     8332.29   136.6 -118.241090  35.095572  \n",
       "15795  12667.69   152.4  -96.800879  34.517420  \n",
       "56422   7853.98   130.1 -101.613419  32.852629  \n",
       "\n",
       "[50000 rows x 11 columns]"
      ]
     },
     "execution_count": 135,
     "metadata": {},
     "output_type": "execute_result"
    }
   ],
   "source": [
    "X_train"
   ]
  },
  {
   "cell_type": "code",
   "execution_count": 62,
   "id": "9a556b9e",
   "metadata": {},
   "outputs": [
    {
     "data": {
      "text/html": [
       "<div>\n",
       "<style scoped>\n",
       "    .dataframe tbody tr th:only-of-type {\n",
       "        vertical-align: middle;\n",
       "    }\n",
       "\n",
       "    .dataframe tbody tr th {\n",
       "        vertical-align: top;\n",
       "    }\n",
       "\n",
       "    .dataframe thead th {\n",
       "        text-align: right;\n",
       "    }\n",
       "</style>\n",
       "<table border=\"1\" class=\"dataframe\">\n",
       "  <thead>\n",
       "    <tr style=\"text-align: right;\">\n",
       "      <th></th>\n",
       "      <th>t_cap</th>\n",
       "    </tr>\n",
       "  </thead>\n",
       "  <tbody>\n",
       "    <tr>\n",
       "      <th>46171</th>\n",
       "      <td>1500</td>\n",
       "    </tr>\n",
       "    <tr>\n",
       "      <th>29102</th>\n",
       "      <td>1300</td>\n",
       "    </tr>\n",
       "    <tr>\n",
       "      <th>3757</th>\n",
       "      <td>1500</td>\n",
       "    </tr>\n",
       "    <tr>\n",
       "      <th>43987</th>\n",
       "      <td>1500</td>\n",
       "    </tr>\n",
       "    <tr>\n",
       "      <th>39073</th>\n",
       "      <td>1500</td>\n",
       "    </tr>\n",
       "    <tr>\n",
       "      <th>...</th>\n",
       "      <td>...</td>\n",
       "    </tr>\n",
       "    <tr>\n",
       "      <th>62570</th>\n",
       "      <td>2820</td>\n",
       "    </tr>\n",
       "    <tr>\n",
       "      <th>38158</th>\n",
       "      <td>2820</td>\n",
       "    </tr>\n",
       "    <tr>\n",
       "      <th>860</th>\n",
       "      <td>2850</td>\n",
       "    </tr>\n",
       "    <tr>\n",
       "      <th>15795</th>\n",
       "      <td>2820</td>\n",
       "    </tr>\n",
       "    <tr>\n",
       "      <th>56422</th>\n",
       "      <td>1790</td>\n",
       "    </tr>\n",
       "  </tbody>\n",
       "</table>\n",
       "<p>50000 rows × 1 columns</p>\n",
       "</div>"
      ],
      "text/plain": [
       "       t_cap\n",
       "46171   1500\n",
       "29102   1300\n",
       "3757    1500\n",
       "43987   1500\n",
       "39073   1500\n",
       "...      ...\n",
       "62570   2820\n",
       "38158   2820\n",
       "860     2850\n",
       "15795   2820\n",
       "56422   1790\n",
       "\n",
       "[50000 rows x 1 columns]"
      ]
     },
     "execution_count": 62,
     "metadata": {},
     "output_type": "execute_result"
    }
   ],
   "source": [
    "y_train"
   ]
  },
  {
   "cell_type": "markdown",
   "id": "02351e82",
   "metadata": {},
   "source": [
    "### Visualize"
   ]
  },
  {
   "cell_type": "code",
   "execution_count": 6,
   "id": "22e76882",
   "metadata": {},
   "outputs": [
    {
     "data": {
      "text/plain": [
       "Text(0.5, 1.0, 'Turbine Capacity vs. Hub Height')"
      ]
     },
     "execution_count": 6,
     "metadata": {},
     "output_type": "execute_result"
    },
    {
     "data": {
      "image/png": "[encoded data removed]",
      "text/plain": [
       "<Figure size 432x288 with 1 Axes>"
      ]
     },
     "metadata": {
      "needs_background": "light"
     },
     "output_type": "display_data"
    }
   ],
   "source": [
    "plt.scatter(X_train['t_hh'], y_train['t_cap'])\n",
    "m, b = np.polyfit(X_train['t_hh'], y_train['t_cap'], 1)\n",
    "plt.plot(X_train['t_hh'], m*X_train['t_hh'] + b)\n",
    "\n",
    "plt.xlabel(\"Turbine Hub Height (m)\")\n",
    "plt.ylabel(\"Turbine Capacity\")\n",
    "plt.title(\"Turbine Capacity vs. Hub Height\")"
   ]
  },
  {
   "cell_type": "code",
   "execution_count": 7,
   "id": "48e512fd",
   "metadata": {},
   "outputs": [
    {
     "data": {
      "text/plain": [
       "Text(0.5, 1.0, 'Turbine Capacity vs. Rotor Diameter')"
      ]
     },
     "execution_count": 7,
     "metadata": {},
     "output_type": "execute_result"
    },
    {
     "data": {
      "image/png": "[encoded data removed]",
      "text/plain": [
       "<Figure size 432x288 with 1 Axes>"
      ]
     },
     "metadata": {
      "needs_background": "light"
     },
     "output_type": "display_data"
    }
   ],
   "source": [
    "plt.scatter(X_train['t_rd'], y_train['t_cap'])\n",
    "\n",
    "plt.xlabel(\"Turbine Rotor Diameter (m)\")\n",
    "plt.ylabel(\"Turbine Capacity\")\n",
    "plt.title(\"Turbine Capacity vs. Rotor Diameter\")"
   ]
  },
  {
   "cell_type": "code",
   "execution_count": 8,
   "id": "114c199c",
   "metadata": {},
   "outputs": [
    {
     "data": {
      "text/plain": [
       "Text(0.5, 1.0, 'Turbine Capacity vs. Rotor Swept Area')"
      ]
     },
     "execution_count": 8,
     "metadata": {},
     "output_type": "execute_result"
    },
    {
     "data": {
      "image/png": "[encoded data removed]",
      "text/plain": [
       "<Figure size 432x288 with 1 Axes>"
      ]
     },
     "metadata": {
      "needs_background": "light"
     },
     "output_type": "display_data"
    }
   ],
   "source": [
    "plt.scatter(X_train['t_rsa'], y_train['t_cap'])\n",
    "plt.xlabel(\"Turbine Rotor Swept Area (m^2)\")\n",
    "plt.ylabel(\"Turbine Capacity\")\n",
    "plt.title(\"Turbine Capacity vs. Rotor Swept Area\")"
   ]
  },
  {
   "cell_type": "code",
   "execution_count": 9,
   "id": "8bdceca8",
   "metadata": {},
   "outputs": [
    {
     "data": {
      "text/plain": [
       "Text(0.5, 1.0, 'Turbine Capacity vs. Year operational')"
      ]
     },
     "execution_count": 9,
     "metadata": {},
     "output_type": "execute_result"
    },
    {
     "data": {
      "image/png": "[encoded data removed]",
      "text/plain": [
       "<Figure size 432x288 with 1 Axes>"
      ]
     },
     "metadata": {
      "needs_background": "light"
     },
     "output_type": "display_data"
    }
   ],
   "source": [
    "plt.scatter(X_train['p_year'], y_train['t_cap'])\n",
    "plt.xlabel(\"Year Operational\")\n",
    "plt.ylabel(\"Turbine Capacity\")\n",
    "plt.title(\"Turbine Capacity vs. Year operational\")"
   ]
  },
  {
   "cell_type": "code",
   "execution_count": 10,
   "id": "dd397660",
   "metadata": {},
   "outputs": [
    {
     "data": {
      "text/plain": [
       "Text(0.5, 1.0, 'Distribution of Year Turbines Became Operational')"
      ]
     },
     "execution_count": 10,
     "metadata": {},
     "output_type": "execute_result"
    },
    {
     "data": {
      "image/png": "[encoded data removed]",
      "text/plain": [
       "<Figure size 432x288 with 1 Axes>"
      ]
     },
     "metadata": {
      "needs_background": "light"
     },
     "output_type": "display_data"
    }
   ],
   "source": [
    "plt.hist(X_train['p_year'])\n",
    "plt.xlabel(\"Year Operational\")\n",
    "plt.ylabel(\"Count\")\n",
    "plt.title(\"Distribution of Year Turbines Became Operational\")"
   ]
  },
  {
   "cell_type": "code",
   "execution_count": null,
   "id": "3023cc70",
   "metadata": {},
   "outputs": [],
   "source": []
  },
  {
   "cell_type": "markdown",
   "id": "256639c8",
   "metadata": {},
   "source": [
    "# Create KNN and Training"
   ]
  },
  {
   "cell_type": "markdown",
   "id": "90311b1c",
   "metadata": {},
   "source": [
    "We split this training process into several steps:\n",
    "\n",
    "1. Preprocessing: We will choose a set of features using forward selection.\n",
    "2. Test several values of $k$ (where $k$ is the number of nearest neighbors) using CV\n",
    "    - Figure out how many folds in k-fold CV\n",
    "    - Be sure to take into account bias and variance\n",
    "3. Use this optimal $k$ to train KNN model\n",
    "    - Loss function: MSE $= (y-f(x))^2$\n",
    "    - Figure out number of epochs\n",
    "    - Consider initialization"
   ]
  },
  {
   "cell_type": "markdown",
   "id": "dd904116",
   "metadata": {},
   "source": [
    "### 1. Preprocessing\n",
    "\n",
    "We clean our dataset and then use forward selection to choose an optimal subset of features. Namely, we will encode the labels for states and counties. We remove `retrofit_year` because most of its observations $\\frac{45364}{50000}\\approx 91\\%$ are NA."
   ]
  },
  {
   "cell_type": "markdown",
   "id": "c3704edb",
   "metadata": {},
   "source": [
    "#### Cleaning data "
   ]
  },
  {
   "cell_type": "code",
   "execution_count": 138,
   "id": "8df7ce80",
   "metadata": {},
   "outputs": [],
   "source": [
    "# Most observations missing in retrofit_year --> remove\n",
    "X_train['retrofit_year'].isna().sum()/len(X_train['retrofit_year'])\n",
    "X_train = X_train.drop(['retrofit_year'], axis = 1)"
   ]
  },
  {
   "cell_type": "code",
   "execution_count": 139,
   "id": "1377a48f",
   "metadata": {},
   "outputs": [
    {
     "data": {
      "text/html": [
       "<div>\n",
       "<style scoped>\n",
       "    .dataframe tbody tr th:only-of-type {\n",
       "        vertical-align: middle;\n",
       "    }\n",
       "\n",
       "    .dataframe tbody tr th {\n",
       "        vertical-align: top;\n",
       "    }\n",
       "\n",
       "    .dataframe thead th {\n",
       "        text-align: right;\n",
       "    }\n",
       "</style>\n",
       "<table border=\"1\" class=\"dataframe\">\n",
       "  <thead>\n",
       "    <tr style=\"text-align: right;\">\n",
       "      <th></th>\n",
       "      <th>t_state</th>\n",
       "      <th>t_county</th>\n",
       "      <th>p_year</th>\n",
       "      <th>retrofit</th>\n",
       "      <th>t_hh</th>\n",
       "      <th>t_rd</th>\n",
       "      <th>t_rsa</th>\n",
       "      <th>t_ttlh</th>\n",
       "      <th>xlong</th>\n",
       "      <th>ylat</th>\n",
       "    </tr>\n",
       "  </thead>\n",
       "  <tbody>\n",
       "    <tr>\n",
       "      <th>46171</th>\n",
       "      <td>KS</td>\n",
       "      <td>Lincoln County</td>\n",
       "      <td>2011</td>\n",
       "      <td>0</td>\n",
       "      <td>80.0</td>\n",
       "      <td>82.5</td>\n",
       "      <td>5345.62</td>\n",
       "      <td>121.3</td>\n",
       "      <td>-98.325649</td>\n",
       "      <td>38.899765</td>\n",
       "    </tr>\n",
       "    <tr>\n",
       "      <th>29102</th>\n",
       "      <td>TX</td>\n",
       "      <td>Upton County</td>\n",
       "      <td>2001</td>\n",
       "      <td>1</td>\n",
       "      <td>60.0</td>\n",
       "      <td>65.0</td>\n",
       "      <td>3318.31</td>\n",
       "      <td>92.4</td>\n",
       "      <td>-102.253399</td>\n",
       "      <td>31.238765</td>\n",
       "    </tr>\n",
       "    <tr>\n",
       "      <th>3757</th>\n",
       "      <td>WA</td>\n",
       "      <td>Klickitat County</td>\n",
       "      <td>2007</td>\n",
       "      <td>0</td>\n",
       "      <td>80.0</td>\n",
       "      <td>77.0</td>\n",
       "      <td>4656.63</td>\n",
       "      <td>118.6</td>\n",
       "      <td>-120.313433</td>\n",
       "      <td>45.845891</td>\n",
       "    </tr>\n",
       "    <tr>\n",
       "      <th>43987</th>\n",
       "      <td>CO</td>\n",
       "      <td>Logan County</td>\n",
       "      <td>2007</td>\n",
       "      <td>0</td>\n",
       "      <td>80.0</td>\n",
       "      <td>77.0</td>\n",
       "      <td>4656.63</td>\n",
       "      <td>118.6</td>\n",
       "      <td>-103.267392</td>\n",
       "      <td>40.907088</td>\n",
       "    </tr>\n",
       "    <tr>\n",
       "      <th>39073</th>\n",
       "      <td>NM</td>\n",
       "      <td>Quay County</td>\n",
       "      <td>2002</td>\n",
       "      <td>1</td>\n",
       "      <td>80.0</td>\n",
       "      <td>87.0</td>\n",
       "      <td>5944.68</td>\n",
       "      <td>123.4</td>\n",
       "      <td>-104.087774</td>\n",
       "      <td>34.730923</td>\n",
       "    </tr>\n",
       "    <tr>\n",
       "      <th>...</th>\n",
       "      <td>...</td>\n",
       "      <td>...</td>\n",
       "      <td>...</td>\n",
       "      <td>...</td>\n",
       "      <td>...</td>\n",
       "      <td>...</td>\n",
       "      <td>...</td>\n",
       "      <td>...</td>\n",
       "      <td>...</td>\n",
       "      <td>...</td>\n",
       "    </tr>\n",
       "    <tr>\n",
       "      <th>62570</th>\n",
       "      <td>AZ</td>\n",
       "      <td>Mohave County</td>\n",
       "      <td>2021</td>\n",
       "      <td>0</td>\n",
       "      <td>89.0</td>\n",
       "      <td>127.0</td>\n",
       "      <td>12667.69</td>\n",
       "      <td>152.4</td>\n",
       "      <td>-114.437594</td>\n",
       "      <td>35.775505</td>\n",
       "    </tr>\n",
       "    <tr>\n",
       "      <th>38158</th>\n",
       "      <td>CO</td>\n",
       "      <td>Weld County</td>\n",
       "      <td>2021</td>\n",
       "      <td>0</td>\n",
       "      <td>89.0</td>\n",
       "      <td>127.0</td>\n",
       "      <td>12667.69</td>\n",
       "      <td>152.4</td>\n",
       "      <td>-104.033837</td>\n",
       "      <td>41.004457</td>\n",
       "    </tr>\n",
       "    <tr>\n",
       "      <th>860</th>\n",
       "      <td>CA</td>\n",
       "      <td>Kern County</td>\n",
       "      <td>2012</td>\n",
       "      <td>0</td>\n",
       "      <td>85.0</td>\n",
       "      <td>103.0</td>\n",
       "      <td>8332.29</td>\n",
       "      <td>136.6</td>\n",
       "      <td>-118.241090</td>\n",
       "      <td>35.095572</td>\n",
       "    </tr>\n",
       "    <tr>\n",
       "      <th>15795</th>\n",
       "      <td>OK</td>\n",
       "      <td>Pontotoc County</td>\n",
       "      <td>2020</td>\n",
       "      <td>0</td>\n",
       "      <td>89.0</td>\n",
       "      <td>127.0</td>\n",
       "      <td>12667.69</td>\n",
       "      <td>152.4</td>\n",
       "      <td>-96.800879</td>\n",
       "      <td>34.517420</td>\n",
       "    </tr>\n",
       "    <tr>\n",
       "      <th>56422</th>\n",
       "      <td>TX</td>\n",
       "      <td>Borden County</td>\n",
       "      <td>2014</td>\n",
       "      <td>0</td>\n",
       "      <td>80.0</td>\n",
       "      <td>100.0</td>\n",
       "      <td>7853.98</td>\n",
       "      <td>130.1</td>\n",
       "      <td>-101.613419</td>\n",
       "      <td>32.852629</td>\n",
       "    </tr>\n",
       "  </tbody>\n",
       "</table>\n",
       "<p>50000 rows × 10 columns</p>\n",
       "</div>"
      ],
      "text/plain": [
       "      t_state          t_county  p_year  retrofit  t_hh   t_rd     t_rsa  \\\n",
       "46171      KS    Lincoln County    2011         0  80.0   82.5   5345.62   \n",
       "29102      TX      Upton County    2001         1  60.0   65.0   3318.31   \n",
       "3757       WA  Klickitat County    2007         0  80.0   77.0   4656.63   \n",
       "43987      CO      Logan County    2007         0  80.0   77.0   4656.63   \n",
       "39073      NM       Quay County    2002         1  80.0   87.0   5944.68   \n",
       "...       ...               ...     ...       ...   ...    ...       ...   \n",
       "62570      AZ     Mohave County    2021         0  89.0  127.0  12667.69   \n",
       "38158      CO       Weld County    2021         0  89.0  127.0  12667.69   \n",
       "860        CA       Kern County    2012         0  85.0  103.0   8332.29   \n",
       "15795      OK   Pontotoc County    2020         0  89.0  127.0  12667.69   \n",
       "56422      TX     Borden County    2014         0  80.0  100.0   7853.98   \n",
       "\n",
       "       t_ttlh       xlong       ylat  \n",
       "46171   121.3  -98.325649  38.899765  \n",
       "29102    92.4 -102.253399  31.238765  \n",
       "3757    118.6 -120.313433  45.845891  \n",
       "43987   118.6 -103.267392  40.907088  \n",
       "39073   123.4 -104.087774  34.730923  \n",
       "...       ...         ...        ...  \n",
       "62570   152.4 -114.437594  35.775505  \n",
       "38158   152.4 -104.033837  41.004457  \n",
       "860     136.6 -118.241090  35.095572  \n",
       "15795   152.4  -96.800879  34.517420  \n",
       "56422   130.1 -101.613419  32.852629  \n",
       "\n",
       "[50000 rows x 10 columns]"
      ]
     },
     "execution_count": 139,
     "metadata": {},
     "output_type": "execute_result"
    }
   ],
   "source": [
    "X_train"
   ]
  },
  {
   "cell_type": "code",
   "execution_count": 140,
   "id": "e9cd8140",
   "metadata": {},
   "outputs": [],
   "source": [
    "# Label encoding for string columns\n",
    "le = preprocessing.LabelEncoder()\n",
    "\n",
    "X_train['t_state'] = le.fit_transform(X_train['t_state'])\n",
    "X_train['t_county'] = le.fit_transform(X_train['t_county'])"
   ]
  },
  {
   "cell_type": "code",
   "execution_count": 141,
   "id": "878cea1d",
   "metadata": {},
   "outputs": [
    {
     "data": {
      "text/html": [
       "<div>\n",
       "<style scoped>\n",
       "    .dataframe tbody tr th:only-of-type {\n",
       "        vertical-align: middle;\n",
       "    }\n",
       "\n",
       "    .dataframe tbody tr th {\n",
       "        vertical-align: top;\n",
       "    }\n",
       "\n",
       "    .dataframe thead th {\n",
       "        text-align: right;\n",
       "    }\n",
       "</style>\n",
       "<table border=\"1\" class=\"dataframe\">\n",
       "  <thead>\n",
       "    <tr style=\"text-align: right;\">\n",
       "      <th></th>\n",
       "      <th>t_state</th>\n",
       "      <th>t_county</th>\n",
       "      <th>p_year</th>\n",
       "      <th>retrofit</th>\n",
       "      <th>t_hh</th>\n",
       "      <th>t_rd</th>\n",
       "      <th>t_rsa</th>\n",
       "      <th>t_ttlh</th>\n",
       "      <th>xlong</th>\n",
       "      <th>ylat</th>\n",
       "    </tr>\n",
       "  </thead>\n",
       "  <tbody>\n",
       "    <tr>\n",
       "      <th>46171</th>\n",
       "      <td>10</td>\n",
       "      <td>249</td>\n",
       "      <td>2011</td>\n",
       "      <td>0</td>\n",
       "      <td>80.0</td>\n",
       "      <td>82.5</td>\n",
       "      <td>5345.62</td>\n",
       "      <td>121.3</td>\n",
       "      <td>-98.325649</td>\n",
       "      <td>38.899765</td>\n",
       "    </tr>\n",
       "    <tr>\n",
       "      <th>29102</th>\n",
       "      <td>34</td>\n",
       "      <td>409</td>\n",
       "      <td>2001</td>\n",
       "      <td>1</td>\n",
       "      <td>60.0</td>\n",
       "      <td>65.0</td>\n",
       "      <td>3318.31</td>\n",
       "      <td>92.4</td>\n",
       "      <td>-102.253399</td>\n",
       "      <td>31.238765</td>\n",
       "    </tr>\n",
       "    <tr>\n",
       "      <th>3757</th>\n",
       "      <td>38</td>\n",
       "      <td>234</td>\n",
       "      <td>2007</td>\n",
       "      <td>0</td>\n",
       "      <td>80.0</td>\n",
       "      <td>77.0</td>\n",
       "      <td>4656.63</td>\n",
       "      <td>118.6</td>\n",
       "      <td>-120.313433</td>\n",
       "      <td>45.845891</td>\n",
       "    </tr>\n",
       "    <tr>\n",
       "      <th>43987</th>\n",
       "      <td>3</td>\n",
       "      <td>252</td>\n",
       "      <td>2007</td>\n",
       "      <td>0</td>\n",
       "      <td>80.0</td>\n",
       "      <td>77.0</td>\n",
       "      <td>4656.63</td>\n",
       "      <td>118.6</td>\n",
       "      <td>-103.267392</td>\n",
       "      <td>40.907088</td>\n",
       "    </tr>\n",
       "    <tr>\n",
       "      <th>39073</th>\n",
       "      <td>23</td>\n",
       "      <td>341</td>\n",
       "      <td>2002</td>\n",
       "      <td>1</td>\n",
       "      <td>80.0</td>\n",
       "      <td>87.0</td>\n",
       "      <td>5944.68</td>\n",
       "      <td>123.4</td>\n",
       "      <td>-104.087774</td>\n",
       "      <td>34.730923</td>\n",
       "    </tr>\n",
       "    <tr>\n",
       "      <th>...</th>\n",
       "      <td>...</td>\n",
       "      <td>...</td>\n",
       "      <td>...</td>\n",
       "      <td>...</td>\n",
       "      <td>...</td>\n",
       "      <td>...</td>\n",
       "      <td>...</td>\n",
       "      <td>...</td>\n",
       "      <td>...</td>\n",
       "      <td>...</td>\n",
       "    </tr>\n",
       "    <tr>\n",
       "      <th>62570</th>\n",
       "      <td>1</td>\n",
       "      <td>286</td>\n",
       "      <td>2021</td>\n",
       "      <td>0</td>\n",
       "      <td>89.0</td>\n",
       "      <td>127.0</td>\n",
       "      <td>12667.69</td>\n",
       "      <td>152.4</td>\n",
       "      <td>-114.437594</td>\n",
       "      <td>35.775505</td>\n",
       "    </tr>\n",
       "    <tr>\n",
       "      <th>38158</th>\n",
       "      <td>3</td>\n",
       "      <td>425</td>\n",
       "      <td>2021</td>\n",
       "      <td>0</td>\n",
       "      <td>89.0</td>\n",
       "      <td>127.0</td>\n",
       "      <td>12667.69</td>\n",
       "      <td>152.4</td>\n",
       "      <td>-104.033837</td>\n",
       "      <td>41.004457</td>\n",
       "    </tr>\n",
       "    <tr>\n",
       "      <th>860</th>\n",
       "      <td>2</td>\n",
       "      <td>224</td>\n",
       "      <td>2012</td>\n",
       "      <td>0</td>\n",
       "      <td>85.0</td>\n",
       "      <td>103.0</td>\n",
       "      <td>8332.29</td>\n",
       "      <td>136.6</td>\n",
       "      <td>-118.241090</td>\n",
       "      <td>35.095572</td>\n",
       "    </tr>\n",
       "    <tr>\n",
       "      <th>15795</th>\n",
       "      <td>27</td>\n",
       "      <td>331</td>\n",
       "      <td>2020</td>\n",
       "      <td>0</td>\n",
       "      <td>89.0</td>\n",
       "      <td>127.0</td>\n",
       "      <td>12667.69</td>\n",
       "      <td>152.4</td>\n",
       "      <td>-96.800879</td>\n",
       "      <td>34.517420</td>\n",
       "    </tr>\n",
       "    <tr>\n",
       "      <th>56422</th>\n",
       "      <td>34</td>\n",
       "      <td>42</td>\n",
       "      <td>2014</td>\n",
       "      <td>0</td>\n",
       "      <td>80.0</td>\n",
       "      <td>100.0</td>\n",
       "      <td>7853.98</td>\n",
       "      <td>130.1</td>\n",
       "      <td>-101.613419</td>\n",
       "      <td>32.852629</td>\n",
       "    </tr>\n",
       "  </tbody>\n",
       "</table>\n",
       "<p>50000 rows × 10 columns</p>\n",
       "</div>"
      ],
      "text/plain": [
       "       t_state  t_county  p_year  retrofit  t_hh   t_rd     t_rsa  t_ttlh  \\\n",
       "46171       10       249    2011         0  80.0   82.5   5345.62   121.3   \n",
       "29102       34       409    2001         1  60.0   65.0   3318.31    92.4   \n",
       "3757        38       234    2007         0  80.0   77.0   4656.63   118.6   \n",
       "43987        3       252    2007         0  80.0   77.0   4656.63   118.6   \n",
       "39073       23       341    2002         1  80.0   87.0   5944.68   123.4   \n",
       "...        ...       ...     ...       ...   ...    ...       ...     ...   \n",
       "62570        1       286    2021         0  89.0  127.0  12667.69   152.4   \n",
       "38158        3       425    2021         0  89.0  127.0  12667.69   152.4   \n",
       "860          2       224    2012         0  85.0  103.0   8332.29   136.6   \n",
       "15795       27       331    2020         0  89.0  127.0  12667.69   152.4   \n",
       "56422       34        42    2014         0  80.0  100.0   7853.98   130.1   \n",
       "\n",
       "            xlong       ylat  \n",
       "46171  -98.325649  38.899765  \n",
       "29102 -102.253399  31.238765  \n",
       "3757  -120.313433  45.845891  \n",
       "43987 -103.267392  40.907088  \n",
       "39073 -104.087774  34.730923  \n",
       "...           ...        ...  \n",
       "62570 -114.437594  35.775505  \n",
       "38158 -104.033837  41.004457  \n",
       "860   -118.241090  35.095572  \n",
       "15795  -96.800879  34.517420  \n",
       "56422 -101.613419  32.852629  \n",
       "\n",
       "[50000 rows x 10 columns]"
      ]
     },
     "execution_count": 141,
     "metadata": {},
     "output_type": "execute_result"
    }
   ],
   "source": [
    "X_train"
   ]
  },
  {
   "cell_type": "code",
   "execution_count": 142,
   "id": "69c96f0c",
   "metadata": {},
   "outputs": [
    {
     "name": "stdout",
     "output_type": "stream",
     "text": [
      "X_train null values:\n",
      " t_state     0\n",
      "t_county    0\n",
      "p_year      0\n",
      "retrofit    0\n",
      "t_hh        0\n",
      "t_rd        1\n",
      "t_rsa       1\n",
      "t_ttlh      1\n",
      "xlong       0\n",
      "ylat        0\n",
      "dtype: int64 \n",
      "\n",
      "y_train null values:\n",
      " t_cap    0\n",
      "dtype: int64\n",
      "       t_state  t_county  p_year  retrofit  t_hh  t_rd  t_rsa  t_ttlh  \\\n",
      "10682       26       109    2009         0  37.0   NaN    NaN     NaN   \n",
      "\n",
      "           xlong       ylat  \n",
      "10682 -81.614799  41.508792  \n"
     ]
    }
   ],
   "source": [
    "# Count NA rows in each dataset\n",
    "print('X_train null values:\\n', X_train.isnull().sum(), \"\\n\")\n",
    "print('y_train null values:\\n', y_train.isnull().sum())\n",
    "# X_test.isnull().sum()\n",
    "# y_test.isnull().sum()\n",
    "\n",
    "# Find row where NAs occur and remove NA rows from both X_train and y_train\n",
    "na_row = X_train.isnull().any(axis = 1)\n",
    "na_rows = X_train[na_row]\n",
    "print(na_rows)\n",
    "X_train = X_train.drop(10682)\n",
    "y_train = y_train.drop(10682)\n",
    "\n",
    "# Transform X and y into correct format\n",
    "# X_train = X_train.iloc[:, 0:10].values\n",
    "# y_train = y_train.iloc[:, 0].values\n",
    "# X_test = X_test.iloc[:, 0:10].values\n",
    "# y_test = y_test.iloc[:, 0].values"
   ]
  },
  {
   "cell_type": "markdown",
   "id": "d265e9a5",
   "metadata": {},
   "source": [
    "#### Scale the data"
   ]
  },
  {
   "cell_type": "code",
   "execution_count": 70,
   "id": "c56edcb4",
   "metadata": {},
   "outputs": [],
   "source": [
    "# scaler = StandardScaler()\n",
    "# X_train = scaler.fit_transform(X_train)\n",
    "# y_train = scaler.fit_transform(y_train)\n",
    "# X_test = scaler.transform(X_test)"
   ]
  },
  {
   "cell_type": "markdown",
   "id": "4ca576ca",
   "metadata": {},
   "source": [
    "#### Model selection"
   ]
  },
  {
   "cell_type": "code",
   "execution_count": 173,
   "id": "cc108580",
   "metadata": {
    "collapsed": true
   },
   "outputs": [
    {
     "name": "stdout",
     "output_type": "stream",
     "text": [
      "k-value  1\n",
      "k-value  2\n",
      "k-value  3\n",
      "k-value  4\n",
      "k-value  5\n",
      "k-value  6\n",
      "k-value  7\n",
      "k-value  8\n",
      "k-value  9\n",
      "k-value  10\n",
      "k-value  11\n",
      "k-value  12\n",
      "k-value  13\n",
      "k-value  14\n",
      "k-value  15\n",
      "k-value  16\n",
      "k-value  17\n",
      "k-value  18\n",
      "k-value  19\n",
      "k-value  20\n",
      "k-value  21\n",
      "k-value  22\n",
      "k-value  23\n",
      "k-value  24\n",
      "k-value  25\n"
     ]
    }
   ],
   "source": [
    "# # Defining list of k values to search for KNN\n",
    "# k_range = range(1, 26) # Values 1-25\n",
    "# k_loss = [] # Array to store validation losses\n",
    "\n",
    "# from sklearn.model_selection import cross_val_score\n",
    "# k_scores = []\n",
    "\n",
    "# for k in k_range:\n",
    "    \n",
    "#     print('k-value ', k)\n",
    "    \n",
    "#     # Run KNN with k neighbors\n",
    "#     knn = KNeighborsRegressor(n_neighbors = k)\n",
    "#     knn.fit(X_train, y_train)\n",
    "#     y_pred = knn.predict(X_train)\n",
    "    \n",
    "#     scores = cross_val_score(knn, X_train, y_train, cv=10, scoring='accuracy')\n",
    "#     k_scores.append(scores.mean())\n",
    "    \n",
    "#     # Calculate KNN MSE loss with k neighbors\n",
    "#     loss = mean_squared_error(y_train, y_pred)\n",
    "#     k_loss.append(loss)\n"
   ]
  },
  {
   "cell_type": "code",
   "execution_count": 147,
   "id": "4c40a5e0",
   "metadata": {
    "collapsed": true
   },
   "outputs": [
    {
     "data": {
      "text/plain": [
       "Text(0.5, 1.0, 'KNN MSE Loss for Different Values of K')"
      ]
     },
     "execution_count": 147,
     "metadata": {},
     "output_type": "execute_result"
    },
    {
     "data": {
      "image/png": "[encoded data removed]",
      "text/plain": [
       "<Figure size 432x288 with 1 Axes>"
      ]
     },
     "metadata": {
      "needs_background": "light"
     },
     "output_type": "display_data"
    }
   ],
   "source": [
    "# # Plot results\n",
    "# plt.plot(k_range, k_loss)\n",
    "# plt.xlabel('KNN k value')\n",
    "# plt.ylabel('MSE Loss')\n",
    "# plt.title('KNN MSE Loss for Different Values of K')"
   ]
  },
  {
   "cell_type": "code",
   "execution_count": 214,
   "id": "56af6806",
   "metadata": {},
   "outputs": [
    {
     "name": "stdout",
     "output_type": "stream",
     "text": [
      "-792.218432970594\n",
      "KNeighborsRegressor(n_neighbors=1)\n",
      "{'n_neighbors': 1}\n"
     ]
    }
   ],
   "source": [
    "# https://stats.stackexchange.com/questions/110599/how-to-get-both-mse-and-r2-from-a-sklearn-gridsearchcv\n",
    "def MSE(y_true,y_pred):\n",
    "    mse = mean_squared_error(y_true, y_pred)\n",
    "    return mse\n",
    "\n",
    "def MSE_score():\n",
    "    return make_scorer(MSE, greater_is_better = False)\n",
    "\n",
    "folds = 10\n",
    "knn = KNeighborsRegressor()\n",
    "kfoldcv = KFold(n_splits = folds, shuffle = True, random_state = 535)\n",
    "\n",
    "hyp = [{'n_neighbors': [1,3,5,7,9,11,13,15]}]\n",
    "grid = GridSearchCV(estimator = knn, param_grid = hyp, cv = kfoldcv, scoring = MSE_score())\n",
    "grid.fit(X_train, y_train)\n",
    "\n",
    "print(grid.best_score_)\n",
    "print(grid.best_estimator_)\n",
    "print(grid.best_params_)"
   ]
  },
  {
   "cell_type": "code",
   "execution_count": 215,
   "id": "21149a36",
   "metadata": {},
   "outputs": [
    {
     "data": {
      "text/plain": [
       "array([ -792.21843297,  -850.88794269, -1103.87625992, -1337.31408519,\n",
       "       -1562.85623253, -1828.65043905, -2072.15353255, -2349.26360241])"
      ]
     },
     "execution_count": 215,
     "metadata": {},
     "output_type": "execute_result"
    }
   ],
   "source": [
    "grid.cv_results_['params'] \n",
    "grid.cv_results_['mean_test_score'] "
   ]
  },
  {
   "cell_type": "code",
   "execution_count": 216,
   "id": "c1ddedad",
   "metadata": {},
   "outputs": [],
   "source": [
    "neigh = [1,3,5,7,9,11,13,15]"
   ]
  },
  {
   "cell_type": "code",
   "execution_count": 217,
   "id": "062c43ae",
   "metadata": {},
   "outputs": [
    {
     "data": {
      "text/plain": [
       "Text(0.5, 1.0, 'KNN MSE Loss for Different Values of K')"
      ]
     },
     "execution_count": 217,
     "metadata": {},
     "output_type": "execute_result"
    },
    {
     "data": {
      "image/png": "[encoded data removed]",
      "text/plain": [
       "<Figure size 432x288 with 1 Axes>"
      ]
     },
     "metadata": {
      "needs_background": "light"
     },
     "output_type": "display_data"
    }
   ],
   "source": [
    "# Plot results\n",
    "plt.scatter(neigh, grid.cv_results_['mean_test_score'] )\n",
    "plt.xlabel('KNN k value')\n",
    "plt.ylabel('MSE Loss')\n",
    "plt.title('KNN MSE Loss for Different Values of K')"
   ]
  },
  {
   "cell_type": "markdown",
   "id": "cd0ca55e",
   "metadata": {},
   "source": [
    "Choose $k=3$ because $k=1$ with loss of zero will likely overfit, so this gives us the next lowest MSE loss."
   ]
  },
  {
   "cell_type": "markdown",
   "id": "9aaf8394",
   "metadata": {},
   "source": [
    "#### Fit a model using the optimized parameters"
   ]
  },
  {
   "cell_type": "code",
   "execution_count": 152,
   "id": "cfdccde4",
   "metadata": {},
   "outputs": [],
   "source": [
    "knn = KNeighborsRegressor(n_neighbors = 3)\n",
    "knn.fit(X_train, y_train)\n",
    "y_pred = knn.predict(X_train)"
   ]
  },
  {
   "cell_type": "markdown",
   "id": "fa011aee",
   "metadata": {},
   "source": [
    "We can check the model fit on some features against `t_cap`, what we would like to predict, like we did in our EDA. "
   ]
  },
  {
   "cell_type": "code",
   "execution_count": 189,
   "id": "e2c911f9",
   "metadata": {},
   "outputs": [
    {
     "data": {
      "text/plain": [
       "<matplotlib.legend.Legend at 0x7ff5c5076220>"
      ]
     },
     "execution_count": 189,
     "metadata": {},
     "output_type": "execute_result"
    },
    {
     "data": {
      "image/png": "[encoded data removed]",
      "text/plain": [
       "<Figure size 432x288 with 1 Axes>"
      ]
     },
     "metadata": {
      "needs_background": "light"
     },
     "output_type": "display_data"
    }
   ],
   "source": [
    "plt.scatter(X_train['t_hh'], y_train, s = 4, label = \"Training y\", alpha = 0.3)\n",
    "plt.scatter(X_train['t_hh'], y_pred, s = 4, label = \"Predicted y\", alpha = 0.3)\n",
    "\n",
    "plt.xlabel(\"Turbine Hub Height (m)\")\n",
    "plt.ylabel(\"Turbine Capacity\")\n",
    "plt.title(\"Turbine Capacity vs. Hub Height\")\n",
    "plt.legend(loc='upper left')"
   ]
  },
  {
   "cell_type": "code",
   "execution_count": 170,
   "id": "bc658098",
   "metadata": {},
   "outputs": [
    {
     "data": {
      "text/plain": [
       "<matplotlib.legend.Legend at 0x7ff5d918b370>"
      ]
     },
     "execution_count": 170,
     "metadata": {},
     "output_type": "execute_result"
    },
    {
     "data": {
      "image/png": "[encoded data removed]",
      "text/plain": [
       "<Figure size 432x288 with 1 Axes>"
      ]
     },
     "metadata": {
      "needs_background": "light"
     },
     "output_type": "display_data"
    }
   ],
   "source": [
    "plt.scatter(X_train['t_rsa'], y_train, s = 4, label = \"Training y\")\n",
    "plt.scatter(X_train['t_rsa'], y_pred, s = 4, label = \"Predicted y\")\n",
    "\n",
    "plt.xlabel(\"Turbine Rotor Swept Area (m^2)\")\n",
    "plt.ylabel(\"Turbine Capacity\")\n",
    "plt.title(\"Turbine Capacity vs. Rotor Swept Area\")\n",
    "plt.legend(loc='upper left')"
   ]
  },
  {
   "cell_type": "code",
   "execution_count": 171,
   "id": "9b78dffd",
   "metadata": {},
   "outputs": [
    {
     "data": {
      "text/plain": [
       "<matplotlib.legend.Legend at 0x7ff5de3313d0>"
      ]
     },
     "execution_count": 171,
     "metadata": {},
     "output_type": "execute_result"
    },
    {
     "data": {
      "image/png": "[encoded data removed]",
      "text/plain": [
       "<Figure size 432x288 with 1 Axes>"
      ]
     },
     "metadata": {
      "needs_background": "light"
     },
     "output_type": "display_data"
    }
   ],
   "source": [
    "plt.scatter(X_train['t_rd'], y_train, s = 4, label = \"Training y\")\n",
    "plt.scatter(X_train['t_rd'], y_pred, s = 4, label = \"Predicted y\")\n",
    "\n",
    "plt.xlabel(\"Turbine Rotor Diameter (m)\")\n",
    "plt.ylabel(\"Turbine Capacity\")\n",
    "plt.title(\"Turbine Capacity vs. Rotor Diameter\")\n",
    "plt.legend(loc='upper left')"
   ]
  },
  {
   "cell_type": "markdown",
   "id": "3f68a4f7",
   "metadata": {},
   "source": [
    "#### Learning curve"
   ]
  },
  {
   "cell_type": "code",
   "execution_count": null,
   "id": "6fd1a214",
   "metadata": {},
   "outputs": [],
   "source": []
  }
 ],
 "metadata": {
  "kernelspec": {
   "display_name": "Python 3",
   "language": "python",
   "name": "python3"
  },
  "language_info": {
   "codemirror_mode": {
    "name": "ipython",
    "version": 3
   },
   "file_extension": ".py",
   "mimetype": "text/x-python",
   "name": "python",
   "nbconvert_exporter": "python",
   "pygments_lexer": "ipython3",
   "version": "3.8.8"
  }
 },
 "nbformat": 4,
 "nbformat_minor": 5
}
